{
 "cells": [
  {
   "cell_type": "markdown",
   "id": "90c74669",
   "metadata": {},
   "source": [
    "To run this code on your system paste your image directory in Line 15.\n",
    "And On Line 16 the dimension of the image can be changed depending on wheter the image is in potratit or Landscape.\n",
    "The dimension is in format(width,height)."
   ]
  }
 ],
 "metadata": {
  "kernelspec": {
   "display_name": "Python 3 (ipykernel)",
   "language": "python",
   "name": "python3"
  },
  "language_info": {
   "codemirror_mode": {
    "name": "ipython",
    "version": 3
   },
   "file_extension": ".py",
   "mimetype": "text/x-python",
   "name": "python",
   "nbconvert_exporter": "python",
   "pygments_lexer": "ipython3",
   "version": "3.9.7"
  }
 },
 "nbformat": 4,
 "nbformat_minor": 5
}
