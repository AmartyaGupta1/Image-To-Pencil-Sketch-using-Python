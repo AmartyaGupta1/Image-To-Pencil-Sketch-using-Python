{
 "cells": [
  {
   "cell_type": "code",
   "execution_count": 1,
   "id": "14be0ee3",
   "metadata": {},
   "outputs": [],
   "source": [
    "from tkinter import *\n",
    "from PIL import ImageTk, Image\n",
    "import PIL.Image\n",
    "import cv2\n",
    "\n",
    "\n",
    "\n",
    "# Create an instance of tkinter window\n",
    "win = Tk()\n",
    "\n",
    "# Define the geometry of the window\n",
    "win.geometry(\"1000x1000\")\n",
    "win.title(\"Converting Picture into Pencil Sketch\")\n",
    "\n",
    "img =cv2.imread(\"C:\\\\Users\\\\Amartya Gupta\\\\Pictures\\\\ABBEY.jpg\")\n",
    "half = cv2.resize(img, (750, 400))\n",
    "blue,green,red = cv2.split(half)\n",
    "half = cv2.merge((red,green,blue))\n",
    "im = Image.fromarray(half)\n",
    "imgtk = PIL.ImageTk.PhotoImage(image=im)\n",
    "\n",
    "img_gray = cv2.cvtColor(img, cv2.COLOR_BGR2GRAY)\n",
    "img_invert = cv2.bitwise_not(img_gray)\n",
    "img_smoothing = cv2.GaussianBlur(img_invert, (121, 121),sigmaX=0, sigmaY=0)\n",
    "final = cv2.divide(img_gray,255-img_smoothing, scale=255)\n",
    "\n",
    "half1 = cv2.resize(final, (750, 400))\n",
    "\n",
    "photo = ImageTk.PhotoImage(image = PIL.Image.fromarray(half1))\n",
    "\n",
    "Label(win, text=\" INTO PENCIL SKETCH\",font=40).grid(row=1,column=2,sticky = 'w' )\n",
    "Label(win, text=\"CONVERSION OF PICTURE\",font=40).grid(row=1,column=1,sticky = 'e' )\n",
    "Label(win, text=\" \",font=40).grid(row=2,column=2)\n",
    "Label(win, text=\"INPUT IMAGE\",font=50).grid(row=3,column=1)\n",
    "Label(win, text=\"OUTPUT IMAGE\",font=50).grid(row=3,column=2)\n",
    "Label(win, image= imgtk).grid(row=4,column=1)\n",
    "Label(win, image=photo).grid(row=4,column=2)\n",
    "Label(win, text=\" \",font=40).grid(row=5,column=2)\n",
    "Label(win, text=\" \",font=40).grid(row=6,column=2)\n",
    "Label(win, text=\" \",font=40).grid(row=7,column=2)\n",
    "\n",
    "\n",
    "\n",
    "win.mainloop()"
   ]
  }
 ],
 "metadata": {
  "kernelspec": {
   "display_name": "Python 3 (ipykernel)",
   "language": "python",
   "name": "python3"
  },
  "language_info": {
   "codemirror_mode": {
    "name": "ipython",
    "version": 3
   },
   "file_extension": ".py",
   "mimetype": "text/x-python",
   "name": "python",
   "nbconvert_exporter": "python",
   "pygments_lexer": "ipython3",
   "version": "3.9.7"
  }
 },
 "nbformat": 4,
 "nbformat_minor": 5
}
